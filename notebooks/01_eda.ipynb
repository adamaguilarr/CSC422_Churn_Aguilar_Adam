{
  "cells": [
    {
      "cell_type": "markdown",
      "metadata": {},
      "source": [
        "# EDA - Telco Customer Churn\n",
        "\n",
        "Starter notebook for quick exploration."
      ]
    },
    {
      "cell_type": "code",
      "execution_count": null,
      "metadata": {},
      "outputs": [],
      "source": [
        "import pandas as pd\n",
        "import numpy as np\n",
        "import matplotlib.pyplot as plt\n",
        "import seaborn as sns\n",
        "from pathlib import Path\n",
        "\n",
        "data_path = Path('../data/Telco-Customer-Churn.csv')\n",
        "df = pd.read_csv(data_path)\n",
        "df.head()"
      ]
    },
    {
      "cell_type": "code",
      "execution_count": null,
      "metadata": {},
      "outputs": [],
      "source": [
        "# Clean minimal - coerce TotalCharges\n",
        "df['TotalCharges'] = pd.to_numeric(df['TotalCharges'], errors='coerce')\n",
        "df['Churn'] = df['Churn'].map({'No':0, 'Yes':1})\n",
        "df.describe(include='all')"
      ]
    },
    {
      "cell_type": "code",
      "execution_count": null,
      "metadata": {},
      "outputs": [],
      "source": [
        "# Churn distribution\n",
        "ax = df['Churn'].value_counts().sort_index().plot(kind='bar')\n",
        "ax.set_xlabel('Churn (0=No, 1=Yes)')\n",
        "ax.set_ylabel('Count')\n",
        "ax.set_title('Churn distribution')\n",
        "plt.show()"
      ]
    },
    {
      "cell_type": "code",
      "execution_count": null,
      "metadata": {},
      "outputs": [],
      "source": [
        "# Numeric correlations\n",
        "num_cols = df.select_dtypes(include=np.number)\n",
        "corr = num_cols.corr()\n",
        "plt.figure(figsize=(6,4))\n",
        "sns.heatmap(corr, annot=False)\n",
        "plt.title('Numeric feature correlation')\n",
        "plt.show()"
      ]
    }
  ],
  "metadata": {
    "kernelspec": {
      "display_name": "Python 3",
      "language": "python",
      "name": "python3"
    },
    "language_info": {
      "name": "python",
      "version": "3.11"
    }
  },
  "nbformat": 4,
  "nbformat_minor": 5
}